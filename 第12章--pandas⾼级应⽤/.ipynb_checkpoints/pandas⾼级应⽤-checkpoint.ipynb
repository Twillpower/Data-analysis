{
 "cells": [
  {
   "cell_type": "markdown",
   "id": "dress-transportation",
   "metadata": {},
   "source": [
    "## 分类数据\n",
    "这⼀节介绍的是pandas的分类类型。我会向你展示通过使⽤它，提⾼性能和内存的使⽤率。我还会介绍⼀些在统计和机器学习中使⽤分类数据的⼯具。  \n",
    "### 背景和⽬的\n",
    "表中的⼀列通常会有重复的包含不同值的⼩集合的情况。我们已经学过了unique和value_counts，它们可以从数组提取出不同的值，并分别计算频率："
   ]
  },
  {
   "cell_type": "code",
   "execution_count": null,
   "id": "behavioral-switch",
   "metadata": {},
   "outputs": [],
   "source": []
  }
 ],
 "metadata": {
  "kernelspec": {
   "display_name": "Python 3",
   "language": "python",
   "name": "python3"
  },
  "language_info": {
   "codemirror_mode": {
    "name": "ipython",
    "version": 3
   },
   "file_extension": ".py",
   "mimetype": "text/x-python",
   "name": "python",
   "nbconvert_exporter": "python",
   "pygments_lexer": "ipython3",
   "version": "3.8.8"
  },
  "toc": {
   "base_numbering": 1,
   "nav_menu": {},
   "number_sections": true,
   "sideBar": true,
   "skip_h1_title": false,
   "title_cell": "Table of Contents",
   "title_sidebar": "Contents",
   "toc_cell": false,
   "toc_position": {},
   "toc_section_display": true,
   "toc_window_display": true
  }
 },
 "nbformat": 4,
 "nbformat_minor": 5
}
